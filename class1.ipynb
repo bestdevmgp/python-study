{
 "cells": [
  {
   "cell_type": "code",
   "execution_count": 1,
   "id": "initial_id",
   "metadata": {
    "ExecuteTime": {
     "end_time": "2024-05-14T06:21:57.060724Z",
     "start_time": "2024-05-14T06:21:51.490122Z"
    },
    "collapsed": true
   },
   "outputs": [
    {
     "name": "stdout",
     "output_type": "stream",
     "text": [
      "95 점 입니다\n"
     ]
    }
   ],
   "source": [
    "dict = {'준영' : 95, '하예' : 78, '가윤' : 82, '성희' : 51, '미연' : 94}\n",
    "\n",
    "k = input('어떤 학생의 점수가 궁금한가요?')\n",
    "\n",
    "if k in dict:\n",
    "    print(f\"{dict[k]} 점 입니다\")\n",
    "else:\n",
    "    print('해당 학생이 없습니다')"
   ]
  },
  {
   "cell_type": "code",
   "execution_count": 2,
   "id": "e940eab0ab13bce0",
   "metadata": {
    "ExecuteTime": {
     "end_time": "2024-05-14T06:46:42.479726Z",
     "start_time": "2024-05-14T06:46:42.475596Z"
    }
   },
   "outputs": [
    {
     "name": "stdout",
     "output_type": "stream",
     "text": [
      "Hello World!\n"
     ]
    }
   ],
   "source": [
    "def hello():\n",
    "    print(\"Hello World!\")\n",
    "hello()"
   ]
  },
  {
   "cell_type": "code",
   "execution_count": 3,
   "id": "32b06f4f4abe522",
   "metadata": {
    "ExecuteTime": {
     "end_time": "2024-05-14T06:50:22.160172Z",
     "start_time": "2024-05-14T06:50:22.157197Z"
    }
   },
   "outputs": [
    {
     "name": "stdout",
     "output_type": "stream",
     "text": [
      "helloworld\n"
     ]
    }
   ],
   "source": [
    "def add(a, b):\n",
    "    print(a + b)\n",
    "\n",
    "add(\"hello\", \"world\")"
   ]
  },
  {
   "cell_type": "code",
   "execution_count": 5,
   "id": "1016dc0c9afb4464",
   "metadata": {
    "ExecuteTime": {
     "end_time": "2024-05-14T06:52:52.576819Z",
     "start_time": "2024-05-14T06:52:52.573957Z"
    }
   },
   "outputs": [
    {
     "name": "stdout",
     "output_type": "stream",
     "text": [
      "101\n"
     ]
    }
   ],
   "source": [
    "def sum(a, b=100):\n",
    "    c = a + b\n",
    "    print(c)\n",
    "sum(1)"
   ]
  },
  {
   "cell_type": "code",
   "execution_count": 6,
   "id": "4d912d7d8fb14354",
   "metadata": {
    "ExecuteTime": {
     "end_time": "2024-05-14T06:56:29.413867Z",
     "start_time": "2024-05-14T06:56:29.411538Z"
    }
   },
   "outputs": [
    {
     "name": "stdout",
     "output_type": "stream",
     "text": [
      "==========\n",
      "5\n"
     ]
    }
   ],
   "source": [
    "def line():\n",
    "    print('==========')\n",
    "line()\n",
    "print(3+2)"
   ]
  },
  {
   "cell_type": "code",
   "execution_count": 7,
   "id": "659ddba4a131510d",
   "metadata": {
    "ExecuteTime": {
     "end_time": "2024-05-14T06:59:10.104065Z",
     "start_time": "2024-05-14T06:59:10.101047Z"
    }
   },
   "outputs": [
    {
     "name": "stdout",
     "output_type": "stream",
     "text": [
      "동해물과 백두산이 마르고 닳도록 하느님이 보우하사 우리나라 만세\n",
      "무궁화 삼천리 화려강산 대한 사람 대한으로 길이 보전하세\n",
      "남산 위에 저 소나무 철갑을 두른 듯 바람서리 불변함은 우리 기상일세\n",
      "무궁화 삼천리 화려강산 대한 사람 대한으로 길이 보전하세\n",
      "가을 하늘 공활한데 높고 구름 없이 밝은 달은 우리 가슴 일편 단심일세\n",
      "무궁화 삼천리 화려강산 대한 사람 대한으로 길이 보전하세\n",
      "이 기상과 이 맘으로 충성을 다하여 괴로우나 즐거우나 나라 사랑하세\n",
      "무궁화 삼천리 화려강산 대한 사람 대한으로 길이 보전하세\n"
     ]
    }
   ],
   "source": [
    "def aegukga():\n",
    "    print(\"\"\"동해물과 백두산이 마르고 닳도록 하느님이 보우하사 우리나라 만세\n",
    "무궁화 삼천리 화려강산 대한 사람 대한으로 길이 보전하세\n",
    "남산 위에 저 소나무 철갑을 두른 듯 바람서리 불변함은 우리 기상일세\n",
    "무궁화 삼천리 화려강산 대한 사람 대한으로 길이 보전하세\n",
    "가을 하늘 공활한데 높고 구름 없이 밝은 달은 우리 가슴 일편 단심일세\n",
    "무궁화 삼천리 화려강산 대한 사람 대한으로 길이 보전하세\n",
    "이 기상과 이 맘으로 충성을 다하여 괴로우나 즐거우나 나라 사랑하세\n",
    "무궁화 삼천리 화려강산 대한 사람 대한으로 길이 보전하세\"\"\")\n",
    "\n",
    "aegukga()"
   ]
  },
  {
   "cell_type": "code",
   "execution_count": 10,
   "id": "fc1313dc8a2ded3e",
   "metadata": {
    "ExecuteTime": {
     "end_time": "2024-05-14T07:11:53.676661Z",
     "start_time": "2024-05-14T07:11:52.814658Z"
    }
   },
   "outputs": [
    {
     "name": "stdout",
     "output_type": "stream",
     "text": [
      "10큰수: 15\n",
      "10작은수: -5\n"
     ]
    }
   ],
   "source": [
    "def up(n):\n",
    "\tprint(f'10큰수: {n+10}')\n",
    "#10작은 수 함수 만들기\n",
    "def down(n):\n",
    "\tprint(f'10작은수: {n-10}')\n",
    "\n",
    "#함수 호출하기\n",
    "n=int(input())\n",
    "up(n)\n",
    "down(n)"
   ]
  },
  {
   "cell_type": "code",
   "execution_count": 14,
   "id": "4cda330e8d56548a",
   "metadata": {
    "ExecuteTime": {
     "end_time": "2024-05-14T07:15:49.709408Z",
     "start_time": "2024-05-14T07:15:47.954722Z"
    }
   },
   "outputs": [
    {
     "name": "stdout",
     "output_type": "stream",
     "text": [
      "314.00\n"
     ]
    }
   ],
   "source": [
    "def circle():\n",
    "    r = int(input())\n",
    "    answer = r**2 * 3.14\n",
    "    return answer\n",
    "\n",
    "print(f\"{circle():.2f}\")"
   ]
  },
  {
   "cell_type": "code",
   "execution_count": 6,
   "id": "6d74f3215523b23c",
   "metadata": {
    "ExecuteTime": {
     "end_time": "2024-05-16T05:55:27.128928Z",
     "start_time": "2024-05-16T05:55:23.939248Z"
    }
   },
   "outputs": [
    {
     "name": "stdout",
     "output_type": "stream",
     "text": [
      "None\n"
     ]
    }
   ],
   "source": [
    "def avg_sub(grade):\n",
    "    return sum(grade) / len(grade)\n",
    "\n",
    "sub = list(map(int, input().split()))\n",
    "print(f\"평균: {avg_sub(sub):.2f}\")"
   ]
  },
  {
   "cell_type": "code",
   "execution_count": 20,
   "id": "eb8da11ab0300d4f",
   "metadata": {
    "ExecuteTime": {
     "end_time": "2024-05-16T06:13:34.224478Z",
     "start_time": "2024-05-16T06:13:31.719783Z"
    }
   },
   "outputs": [
    {
     "name": "stdout",
     "output_type": "stream",
     "text": [
      "4\n"
     ]
    }
   ],
   "source": [
    "def cal(l):\n",
    "    if l[1] == '+':\n",
    "        return int(l[0]) + int(l[2])\n",
    "    elif l[1] == '-':\n",
    "        return int(l[0]) - int(l[2])\n",
    "    elif l[1] == '*':\n",
    "        return int(l[0]) * int(l[2])\n",
    "    elif l[1] == '/':\n",
    "        return int(l[0]) / int(l[2])\n",
    "\n",
    "l = list(input().split())\n",
    "print(cal(l))"
   ]
  },
  {
   "cell_type": "code",
   "execution_count": 26,
   "id": "8011f9abb94cb664",
   "metadata": {
    "ExecuteTime": {
     "end_time": "2024-05-16T06:32:09.900805Z",
     "start_time": "2024-05-16T06:32:07.963307Z"
    }
   },
   "outputs": [
    {
     "name": "stdout",
     "output_type": "stream",
     "text": [
      "90\n"
     ]
    }
   ],
   "source": [
    "def rectangle(a, b):\n",
    "    return a*b\n",
    "def jik4(a, b, c):\n",
    "    return rectangle(a, b) * c\n",
    "a, b, c = map(int, input().split())\n",
    "print(jik4(a, b, c))"
   ]
  },
  {
   "cell_type": "code",
   "execution_count": 12,
   "id": "24bc911164e13c31",
   "metadata": {
    "ExecuteTime": {
     "end_time": "2024-05-20T01:07:49.308618Z",
     "start_time": "2024-05-20T01:07:47.445159Z"
    }
   },
   "outputs": [
    {
     "name": "stdout",
     "output_type": "stream",
     "text": [
      "6\n"
     ]
    }
   ],
   "source": [
    "def taro(y, m, d):\n",
    "    sum = y + m + d\n",
    "    sum = str(sum)\n",
    "    result = 0\n",
    "    for i in sum:\n",
    "        result += int(i)\n",
    "    return result % 22\n",
    "    \n",
    "n1, n2, n3 = map(int, input().split('.'))\n",
    "print(taro(n1, n2, n3))"
   ]
  },
  {
   "cell_type": "code",
   "execution_count": 16,
   "id": "2f93fd8e0ae1c480",
   "metadata": {
    "ExecuteTime": {
     "end_time": "2024-05-20T01:10:02.381339Z",
     "start_time": "2024-05-20T01:10:02.378756Z"
    }
   },
   "outputs": [
    {
     "name": "stdout",
     "output_type": "stream",
     "text": [
      "1 2 3 "
     ]
    }
   ],
   "source": [
    "x = [1, 2, 3]\n",
    "print(*x)\n",
    "# for i in range(len(x)):\n",
    "#     print(x[i], end=' ')"
   ]
  },
  {
   "cell_type": "code",
   "execution_count": 20,
   "id": "edfd4ac79732c1fc",
   "metadata": {
    "ExecuteTime": {
     "end_time": "2024-05-20T01:11:36.152603Z",
     "start_time": "2024-05-20T01:11:36.150449Z"
    }
   },
   "outputs": [
    {
     "name": "stdout",
     "output_type": "stream",
     "text": [
      "10\n",
      "20\n",
      "30\n"
     ]
    }
   ],
   "source": [
    "def print_num(a, b, c):\n",
    "    print(a)\n",
    "    print(b)\n",
    "    print(c)\n",
    "    \n",
    "x = [10, 20, 30]\n",
    "print_num(*x)"
   ]
  },
  {
   "cell_type": "code",
   "execution_count": 22,
   "id": "b91d7ef6a5eb6c33",
   "metadata": {
    "ExecuteTime": {
     "end_time": "2024-05-20T01:15:41.145250Z",
     "start_time": "2024-05-20T01:15:41.142204Z"
    }
   },
   "outputs": [
    {
     "name": "stdout",
     "output_type": "stream",
     "text": [
      "(1, 2, 3, 4, 5)\n"
     ]
    }
   ],
   "source": [
    "def print_num(*args):\n",
    "    print(args)\n",
    "    \n",
    "x = [1, 2, 3, 4, 5]\n",
    "print_num(*x)"
   ]
  },
  {
   "cell_type": "code",
   "execution_count": 27,
   "id": "e7e1b924f679d7ab",
   "metadata": {
    "ExecuteTime": {
     "end_time": "2024-05-20T01:19:05.315396Z",
     "start_time": "2024-05-20T01:19:05.311454Z"
    }
   },
   "outputs": [
    {
     "name": "stdout",
     "output_type": "stream",
     "text": [
      "이름:  name\n",
      "나이:  age\n",
      "주소:  add\n",
      "\n",
      "이름:  홍길동\n",
      "나이:  30\n",
      "주소:  대구 달성군\n"
     ]
    }
   ],
   "source": [
    "def personal_info(name, age, add):\n",
    "    print('이름: ', name)\n",
    "    print('나이: ', age)\n",
    "    print('주소: ', add)\n",
    "    \n",
    "x = {'name': '홍길동', 'age': 30, 'add': '대구 달성군'}\n",
    "\n",
    "personal_info(*x)\n",
    "print()\n",
    "personal_info(**x)"
   ]
  },
  {
   "cell_type": "code",
   "execution_count": 31,
   "id": "74f092d3f993ed8b",
   "metadata": {
    "ExecuteTime": {
     "end_time": "2024-05-20T01:33:16.030900Z",
     "start_time": "2024-05-20T01:33:16.027775Z"
    }
   },
   "outputs": [
    {
     "name": "stdout",
     "output_type": "stream",
     "text": [
      "1\n",
      "12\n",
      "{'coffee': 3000, 'milk': 1500, 'tea': 4500, 'latte': 5000}\n"
     ]
    }
   ],
   "source": [
    "def holsu(*args):\n",
    "    summ = 0\n",
    "    for i in args:\n",
    "        if i % 2:\n",
    "            summ += i\n",
    "    return summ\n",
    "    \n",
    "def bunsic(**cafe):\n",
    "    print(cafe)\n",
    "    \n",
    "print(holsu(1, 2, 4))\n",
    "print(holsu(7, 12, 5, 20, 64))\n",
    "\n",
    "bunsic(coffee = 3000, milk = 1500, tea = 4500, latte = 5000)"
   ]
  },
  {
   "cell_type": "code",
   "execution_count": 33,
   "id": "c8fbebe5faaa4903",
   "metadata": {
    "ExecuteTime": {
     "end_time": "2024-05-20T01:58:14.740830Z",
     "start_time": "2024-05-20T01:58:14.737222Z"
    }
   },
   "outputs": [
    {
     "name": "stdout",
     "output_type": "stream",
     "text": [
      "str.count('s') : 0\n",
      "str.find('o') : 2\n",
      "str.index('f') : 3\n",
      "\"!\".join(str) :  !S!o!f!t!w!a!r!e!_!S!c!h!o!o!l! \n",
      "str.upper() :  SOFTWARE_SCHOOL \n",
      "str.lower() :  software_school \n",
      "str.strip() : Software_School\n",
      "str.replace('_', '>>') :  Software>>School \n",
      "str.split('o') : [' S', 'ftware_Sch', '', 'l ']\n"
     ]
    }
   ],
   "source": [
    "str = \" Software_School \"\n",
    "\n",
    "print(\"str.count('s') :\", str.count('s'))\n",
    "print(\"str.find('o') :\", str.find('o'))\n",
    "print(\"str.index('f') :\", str.index('f'))\n",
    "print(\"\\\"!\\\".join(str) :\", \"!\".join(str))\n",
    "print(\"str.upper() :\", str.upper())\n",
    "print(\"str.lower() :\", str.lower())\n",
    "print(\"str.strip() :\", str.strip())\n",
    "print(\"str.replace('_', '>>') :\", str.replace('_', '>>'))\n",
    "print(\"str.split('o') :\", str.split('o'))"
   ]
  },
  {
   "cell_type": "code",
   "execution_count": 35,
   "id": "ffa7c47e5658f9e3",
   "metadata": {
    "ExecuteTime": {
     "end_time": "2024-05-20T02:01:56.137282Z",
     "start_time": "2024-05-20T02:01:43.065720Z"
    }
   },
   "outputs": [
    {
     "name": "stdout",
     "output_type": "stream",
     "text": [
      "HI\n",
      "HELLO\n",
      "BYE\n",
      "BYEBYE\n"
     ]
    }
   ],
   "source": [
    "n = int(input())\n",
    "for i in range(n):\n",
    "    s = input()\n",
    "    print(s.upper())"
   ]
  },
  {
   "cell_type": "code",
   "execution_count": 38,
   "id": "bcfd2d6d32c0b269",
   "metadata": {
    "ExecuteTime": {
     "end_time": "2024-05-20T02:05:40.077457Z",
     "start_time": "2024-05-20T02:05:36.214843Z"
    }
   },
   "outputs": [
    {
     "name": "stdout",
     "output_type": "stream",
     "text": [
      "4\n",
      "3\n"
     ]
    }
   ],
   "source": [
    "st = ['박지민', '윤세욱', '이건의', '이지수', '김동찬', '정여원', '강성록', '제민국']\n",
    "for i in range(2):\n",
    "    name = input()\n",
    "    print(st.index(name))"
   ]
  },
  {
   "cell_type": "code",
   "execution_count": 48,
   "id": "cc6cd8d1c0a9abf2",
   "metadata": {
    "ExecuteTime": {
     "end_time": "2024-05-20T02:33:12.967950Z",
     "start_time": "2024-05-20T02:33:11.833182Z"
    }
   },
   "outputs": [
    {
     "name": "stdout",
     "output_type": "stream",
     "text": [
      "3\n"
     ]
    }
   ],
   "source": [
    "def add_num(a, b):\n",
    "    print(a + b)\n",
    "\n",
    "a = int(input())\n",
    "b = int(input())\n",
    "add_num(a, b)"
   ]
  },
  {
   "cell_type": "code",
   "execution_count": 1,
   "id": "76372021e66825d2",
   "metadata": {
    "ExecuteTime": {
     "end_time": "2024-05-21T01:55:29.097557Z",
     "start_time": "2024-05-21T01:55:26.876353Z"
    }
   },
   "outputs": [
    {
     "name": "stdout",
     "output_type": "stream",
     "text": [
      "1\n"
     ]
    }
   ],
   "source": [
    "def howMany(s):\n",
    "    print(len(s))\n",
    "    \n",
    "a = input()\n",
    "howMany(a)"
   ]
  },
  {
   "cell_type": "code",
   "execution_count": 3,
   "id": "ddd95dce72addba8",
   "metadata": {
    "ExecuteTime": {
     "end_time": "2024-05-21T02:15:43.263503Z",
     "start_time": "2024-05-21T02:15:34.035992Z"
    }
   },
   "outputs": [
    {
     "name": "stdout",
     "output_type": "stream",
     "text": [
      "가장 작은 수는 3입니다.\n"
     ]
    }
   ],
   "source": [
    "def find_max(a, b, c):\n",
    "    if a >= b and a >= c:\n",
    "        return a\n",
    "    elif b >= c and b >= a:\n",
    "        return b\n",
    "    elif c >= b and c >= a:\n",
    "        return c\n",
    "\n",
    "def find_min(a, b, c):\n",
    "    if a <= b and a <= c: return a\n",
    "    elif b <= c and b <= a: return b\n",
    "    elif c <= b and c <= a: return c\n",
    "\n",
    "n = int(input('작은 수를 구하려면 0, 큰 수를 구하려면 1을 입력하세요'))\n",
    "a, b, c = map(int, input().split())\n",
    "\n",
    "if n == 1:\n",
    "    max = find_max(a, b, c)\n",
    "    print(\"가장 큰 수는 %d입니다.\" %max)\n",
    "    \n",
    "elif n == 0:\n",
    "    min = find_min(a, b, c)\n",
    "    print(\"가장 작은 수는 %d입니다.\" %min)"
   ]
  },
  {
   "cell_type": "code",
   "execution_count": 4,
   "id": "d88bf99be70f8ccd",
   "metadata": {
    "ExecuteTime": {
     "end_time": "2024-05-21T02:32:56.321271Z",
     "start_time": "2024-05-21T02:32:44.417380Z"
    }
   },
   "outputs": [
    {
     "name": "stdout",
     "output_type": "stream",
     "text": [
      "가장 큰 수는 7입니다.\n"
     ]
    }
   ],
   "source": [
    "def find_max(a, b, c):\n",
    "    \"\"\"세 개의 숫자 중 가장 큰 수를 찾아 반환한다.\n",
    "\n",
    "    Args:\n",
    "        a (int): 첫 번째 숫자.\n",
    "        b (int): 두 번째 숫자.\n",
    "        c (int): 세 번째 숫자.\n",
    "\n",
    "    Returns:\n",
    "        int: 세 개의 숫자 중 가장 큰 수.\n",
    "    \"\"\"\n",
    "    \n",
    "    #크기 비교\n",
    "    if a >= b and a >= c: return a\n",
    "    elif b >= c and b >= a: return b\n",
    "    elif c >= b and c >= a: return c\n",
    "\n",
    "def find_min(a, b, c):\n",
    "    \"\"\"세 개의 숫자 중 가장 작은 수를 찾아 반환한다.\n",
    "\n",
    "    Args:\n",
    "        a (int): 첫 번째 숫자.\n",
    "        b (int): 두 번째 숫자.\n",
    "        c (int): 세 번째 숫자.\n",
    "\n",
    "    Returns:\n",
    "        int: 세 개의 숫자 중 가장 작은 수.\n",
    "    \"\"\"\n",
    "    \n",
    "    #크기 비교\n",
    "    if a <= b and a <= c: return a\n",
    "    elif b <= c and b <= a: return b\n",
    "    elif c <= b and c <= a: return c\n",
    "\n",
    "n = int(input('작은 수를 구하려면 0, 큰 수를 구하려면 1을 입력하세요')) #작은 수를 구하려면 0, 큰 수를 구하려면 1을 입력\n",
    "a, b, c = map(int, input().split()) #입력\n",
    "\n",
    "if n == 1: #1이 입력 되었을 때\n",
    "    max = find_max(a, b, c)\n",
    "    print(\"가장 큰 수는 %d입니다.\" %max)\n",
    "    \n",
    "elif n == 0: #0이 입력 되었을 때\n",
    "    min = find_min(a, b, c)\n",
    "    print(\"가장 작은 수는 %d입니다.\" %min)"
   ]
  },
  {
   "cell_type": "code",
   "execution_count": 13,
   "id": "331e586599afabac",
   "metadata": {
    "ExecuteTime": {
     "end_time": "2024-05-21T03:21:50.153488Z",
     "start_time": "2024-05-21T03:21:47.557915Z"
    }
   },
   "outputs": [
    {
     "ename": "ValueError",
     "evalue": "not enough values to unpack (expected 3, got 0)",
     "output_type": "error",
     "traceback": [
      "\u001b[0;31m---------------------------------------------------------------------------\u001b[0m",
      "\u001b[0;31mValueError\u001b[0m                                Traceback (most recent call last)",
      "Cell \u001b[0;32mIn[13], line 20\u001b[0m\n\u001b[1;32m     11\u001b[0m \u001b[38;5;250m    \u001b[39m\u001b[38;5;124;03m\"\"\"\u001b[39;00m\n\u001b[1;32m     12\u001b[0m \u001b[38;5;124;03m    a, b, c를 받아 삼각기둥의 넓이를 구한다.\u001b[39;00m\n\u001b[1;32m     13\u001b[0m \u001b[38;5;124;03m    :param a: 위와 동일\u001b[39;00m\n\u001b[0;32m   (...)\u001b[0m\n\u001b[1;32m     16\u001b[0m \u001b[38;5;124;03m    :return: 삼각기둥의 넓이\u001b[39;00m\n\u001b[1;32m     17\u001b[0m \u001b[38;5;124;03m    \"\"\"\u001b[39;00m\n\u001b[1;32m     18\u001b[0m     \u001b[38;5;28;01mreturn\u001b[39;00m area(a, b) \u001b[38;5;241m*\u001b[39m c\n\u001b[0;32m---> 20\u001b[0m a, b, c \u001b[38;5;241m=\u001b[39m \u001b[38;5;28mmap\u001b[39m(\u001b[38;5;28mint\u001b[39m, \u001b[38;5;28minput\u001b[39m()\u001b[38;5;241m.\u001b[39msplit()) \u001b[38;5;66;03m#3개의 요소 입력\u001b[39;00m\n\u001b[1;32m     21\u001b[0m \u001b[38;5;28mprint\u001b[39m(\u001b[38;5;124mf\u001b[39m\u001b[38;5;124m\"\u001b[39m\u001b[38;5;132;01m{\u001b[39;00mresult(a,\u001b[38;5;250m \u001b[39mb,\u001b[38;5;250m \u001b[39mc)\u001b[38;5;132;01m:\u001b[39;00m\u001b[38;5;124m.0f\u001b[39m\u001b[38;5;132;01m}\u001b[39;00m\u001b[38;5;124m\"\u001b[39m) \u001b[38;5;66;03m#print(int(result(a, b, c))) 이렇게 쓰면 간단하니 고치도록 하셈.\u001b[39;00m\n",
      "\u001b[0;31mValueError\u001b[0m: not enough values to unpack (expected 3, got 0)"
     ]
    }
   ],
   "source": [
    "def area(a, b):\n",
    "    \"\"\"\n",
    "    a, b를 받아 삼각형의 넓이를 구한다.\n",
    "    :param a: 삼각형의 밑변이나 높이\n",
    "    :param b: 삼각형의 높이나 밑변\n",
    "    :return: 삼각형의 넓이\n",
    "    \"\"\"\n",
    "    return a*b*0.5\n",
    "\n",
    "def result(a, b, c):\n",
    "    \"\"\"\n",
    "    a, b, c를 받아 삼각기둥의 넓이를 구한다.\n",
    "    :param a: 위와 동일\n",
    "    :param b: 위와 동일\n",
    "    :param c: 삼각기둥의 높이\n",
    "    :return: 삼각기둥의 넓이\n",
    "    \"\"\"\n",
    "    return area(a, b) * c\n",
    "\n",
    "a, b, c = map(int, input().split()) #3개의 요소 입력\n",
    "print(f\"{result(a, b, c):.0f}\") #print(int(result(a, b, c))) 이렇게 쓰면 간단하니 고치도록 하셈."
   ]
  },
  {
   "cell_type": "code",
   "execution_count": 29,
   "id": "cb35d7513262a522",
   "metadata": {
    "ExecuteTime": {
     "end_time": "2024-05-21T10:37:16.289849Z",
     "start_time": "2024-05-21T10:37:11.101119Z"
    }
   },
   "outputs": [
    {
     "name": "stdout",
     "output_type": "stream",
     "text": [
      "437\n"
     ]
    }
   ],
   "source": [
    "a, b = map(int, input().split())\n",
    "re_a = int(str(a)[::-1])\n",
    "re_b = int(str(b)[::-1])\n",
    "if re_a > re_b:\n",
    "    print(re_a)\n",
    "elif re_a < re_b:\n",
    "    print(re_b)"
   ]
  },
  {
   "cell_type": "code",
   "execution_count": 21,
   "id": "c5022aa92a38523a",
   "metadata": {
    "ExecuteTime": {
     "end_time": "2024-05-21T10:30:10.533151Z",
     "start_time": "2024-05-21T10:30:10.531189Z"
    }
   },
   "outputs": [
    {
     "name": "stdout",
     "output_type": "stream",
     "text": [
      "h e l l o\n"
     ]
    }
   ],
   "source": [
    "a = 'hello'\n",
    "print(*a)"
   ]
  },
  {
   "cell_type": "code",
   "execution_count": 44,
   "id": "e2aeb56336cce6ee",
   "metadata": {
    "ExecuteTime": {
     "end_time": "2024-05-21T11:00:08.150472Z",
     "start_time": "2024-05-21T11:00:06.129875Z"
    }
   },
   "outputs": [
    {
     "name": "stdout",
     "output_type": "stream",
     "text": [
      "36\n"
     ]
    }
   ],
   "source": [
    "l = ['ABC', 'DEF', 'GHI', 'JKL', 'MNO', 'PQRS', 'TUV', 'WXYZ']\n",
    "time = 0\n",
    "s = (input())\n",
    "for i in range(len(s)):\n",
    "    for j in range(len(l)):\n",
    "        if s[i] in l[j]:\n",
    "            time+=j+3\n",
    "print(time)"
   ]
  },
  {
   "cell_type": "code",
   "execution_count": null,
   "id": "3320db95c37631ec",
   "metadata": {
    "jupyter": {
     "is_executing": true
    }
   },
   "outputs": [],
   "source": [
    "while True:\n",
    "    try:\n",
    "        print(input())\n",
    "    except:\n",
    "        break"
   ]
  },
  {
   "cell_type": "code",
   "execution_count": null,
   "id": "8599d9786c2b9536",
   "metadata": {
    "ExecuteTime": {
     "end_time": "2024-05-23T06:34:41.069827Z",
     "start_time": "2024-05-23T06:34:40.969706Z"
    }
   },
   "outputs": [
    {
     "name": "stderr",
     "output_type": "stream",
     "text": [
      "Could not connect to 127.0.0.1: 49851\n",
      "Traceback (most recent call last):\n",
      "  File \"/Applications/PyCharm.app/Contents/plugins/python/helpers/pydev/_pydevd_bundle/pydevd_comm.py\", line 465, in start_client\n",
      "    s.connect((host, port))\n",
      "ConnectionRefusedError: [Errno 61] Connection refused\n",
      "Traceback (most recent call last):\n",
      "  File \"/Applications/PyCharm.app/Contents/plugins/python/helpers-pro/jupyter_debug/pydev_jupyter_utils.py\", line 81, in attach_to_debugger\n",
      "    debugger.connect(pydev_localhost.get_localhost(), debugger_port)\n",
      "  File \"/Applications/PyCharm.app/Contents/plugins/python/helpers/pydev/pydevd.py\", line 671, in connect\n",
      "    s = start_client(host, port)\n",
      "        ^^^^^^^^^^^^^^^^^^^^^^^^\n",
      "  File \"/Applications/PyCharm.app/Contents/plugins/python/helpers/pydev/_pydevd_bundle/pydevd_comm.py\", line 465, in start_client\n",
      "    s.connect((host, port))\n",
      "ConnectionRefusedError: [Errno 61] Connection refused\n",
      "Failed to connect to target debugger.\n"
     ]
    }
   ],
   "source": []
  },
  {
   "cell_type": "code",
   "execution_count": 2,
   "id": "ec0fb3e34fe97b32",
   "metadata": {
    "ExecuteTime": {
     "end_time": "2024-05-23T06:43:04.739158Z",
     "start_time": "2024-05-23T06:43:04.734388Z"
    }
   },
   "outputs": [
    {
     "name": "stdout",
     "output_type": "stream",
     "text": [
      "1\n",
      "2\n",
      "3\n",
      "4\n"
     ]
    }
   ],
   "source": [
    "#반복문을 사용하지 않고 \"대소고\"를 4번 출력하기\n",
    "\n",
    "def name(n) :\n",
    "\tif n < 1 : \n",
    "\t\treturn\n",
    "\tname(n-1)\n",
    "\tprint(n)\n",
    "\t\n",
    "name(4)"
   ]
  },
  {
   "cell_type": "code",
   "execution_count": 3,
   "id": "cac7e828c2b15fad",
   "metadata": {
    "ExecuteTime": {
     "end_time": "2024-05-23T07:15:04.054503Z",
     "start_time": "2024-05-23T07:15:04.051951Z"
    }
   },
   "outputs": [],
   "source": [
    "# def f(n):\n",
    "#     if n == 0:\n",
    "#         return 0\n",
    "#     elif n ==1:\n",
    "#         return 1\n",
    "#     else:\n",
    "#         return(f(n-1)+f(n-2))"
   ]
  },
  {
   "cell_type": "code",
   "execution_count": 5,
   "id": "59f4d504cf0e2d37",
   "metadata": {
    "ExecuteTime": {
     "end_time": "2024-05-23T07:18:49.330705Z",
     "start_time": "2024-05-23T07:18:47.768807Z"
    }
   },
   "outputs": [
    {
     "ename": "RecursionError",
     "evalue": "maximum recursion depth exceeded",
     "output_type": "error",
     "traceback": [
      "\u001b[0;31m---------------------------------------------------------------------------\u001b[0m",
      "\u001b[0;31mRecursionError\u001b[0m                            Traceback (most recent call last)",
      "Cell \u001b[0;32mIn[5], line 4\u001b[0m\n\u001b[1;32m      2\u001b[0m \u001b[38;5;28;01mdef\u001b[39;00m \u001b[38;5;21madd\u001b[39m(n):\n\u001b[1;32m      3\u001b[0m     \u001b[38;5;28;01mreturn\u001b[39;00m add(n\u001b[38;5;241m-\u001b[39m\u001b[38;5;241m1\u001b[39m)\n\u001b[0;32m----> 4\u001b[0m \u001b[38;5;28mprint\u001b[39m(\u001b[43madd\u001b[49m\u001b[43m(\u001b[49m\u001b[43mn\u001b[49m\u001b[43m)\u001b[49m)\n",
      "Cell \u001b[0;32mIn[5], line 3\u001b[0m, in \u001b[0;36madd\u001b[0;34m(n)\u001b[0m\n\u001b[1;32m      2\u001b[0m \u001b[38;5;28;01mdef\u001b[39;00m \u001b[38;5;21madd\u001b[39m(n):\n\u001b[0;32m----> 3\u001b[0m     \u001b[38;5;28;01mreturn\u001b[39;00m \u001b[43madd\u001b[49m\u001b[43m(\u001b[49m\u001b[43mn\u001b[49m\u001b[38;5;241;43m-\u001b[39;49m\u001b[38;5;241;43m1\u001b[39;49m\u001b[43m)\u001b[49m\n",
      "Cell \u001b[0;32mIn[5], line 3\u001b[0m, in \u001b[0;36madd\u001b[0;34m(n)\u001b[0m\n\u001b[1;32m      2\u001b[0m \u001b[38;5;28;01mdef\u001b[39;00m \u001b[38;5;21madd\u001b[39m(n):\n\u001b[0;32m----> 3\u001b[0m     \u001b[38;5;28;01mreturn\u001b[39;00m \u001b[43madd\u001b[49m\u001b[43m(\u001b[49m\u001b[43mn\u001b[49m\u001b[38;5;241;43m-\u001b[39;49m\u001b[38;5;241;43m1\u001b[39;49m\u001b[43m)\u001b[49m\n",
      "    \u001b[0;31m[... skipping similar frames: add at line 3 (2974 times)]\u001b[0m\n",
      "Cell \u001b[0;32mIn[5], line 3\u001b[0m, in \u001b[0;36madd\u001b[0;34m(n)\u001b[0m\n\u001b[1;32m      2\u001b[0m \u001b[38;5;28;01mdef\u001b[39;00m \u001b[38;5;21madd\u001b[39m(n):\n\u001b[0;32m----> 3\u001b[0m     \u001b[38;5;28;01mreturn\u001b[39;00m \u001b[43madd\u001b[49m\u001b[43m(\u001b[49m\u001b[43mn\u001b[49m\u001b[38;5;241;43m-\u001b[39;49m\u001b[38;5;241;43m1\u001b[39;49m\u001b[43m)\u001b[49m\n",
      "\u001b[0;31mRecursionError\u001b[0m: maximum recursion depth exceeded"
     ]
    }
   ],
   "source": [
    "n = int(input())\n",
    "def add(n):\n",
    "    return add(n-1)\n",
    "print(add(n))"
   ]
  },
  {
   "cell_type": "code",
   "execution_count": 3,
   "id": "52420a025c662d4a",
   "metadata": {
    "ExecuteTime": {
     "end_time": "2024-05-24T03:05:40.669630Z",
     "start_time": "2024-05-24T03:05:31.211161Z"
    }
   },
   "outputs": [
    {
     "name": "stdout",
     "output_type": "stream",
     "text": [
      "6 4 3 3 2 1 1\n"
     ]
    }
   ],
   "source": [
    "a, b = map(int, input().split())\n",
    "l1 = list(map(int, input().split()))\n",
    "l2 = list(map(int, input().split()))\n",
    "l = l1 + l2\n",
    "l.sort(reverse=True)\n",
    "print(*l)"
   ]
  },
  {
   "cell_type": "code",
   "execution_count": 4,
   "id": "7bc33dcb16617524",
   "metadata": {
    "ExecuteTime": {
     "end_time": "2024-05-24T03:06:44.501020Z",
     "start_time": "2024-05-24T03:06:39.377824Z"
    }
   },
   "outputs": [
    {
     "name": "stdout",
     "output_type": "stream",
     "text": [
      "['책읽기']\n"
     ]
    }
   ],
   "source": [
    "to_do = list()\n",
    "n = input()\n",
    "to_do.append(n)\n",
    "print(to_do)"
   ]
  },
  {
   "cell_type": "code",
   "execution_count": null,
   "id": "fef50e4c7738d370",
   "metadata": {},
   "outputs": [],
   "source": [
    "#각 함수의 pass부분을 수정하여 함수를 완성하자.\n",
    "def usum():\n",
    "\tpass\n",
    "def ucount():\n",
    "\tpass\n",
    "def uaverage():\n",
    "\tpass\n",
    "def umax():\n",
    "\tpass\n",
    "def umin():\n",
    "\tpass\n",
    "\n",
    "arr = list(map(int, input().split()))\n",
    "\n",
    "print(usum(arr))\n",
    "print(ucount(arr))\n",
    "print(uaverage(arr))\n",
    "print(umax(arr))\n",
    "print(umin(arr))"
   ]
  },
  {
   "cell_type": "code",
   "execution_count": 1,
   "id": "4dda1e4b",
   "metadata": {},
   "outputs": [
    {
     "ename": "TypeError",
     "evalue": "nsum() takes 0 positional arguments but 1 was given",
     "output_type": "error",
     "traceback": [
      "\u001b[0;31m---------------------------------------------------------------------------\u001b[0m",
      "\u001b[0;31mTypeError\u001b[0m                                 Traceback (most recent call last)",
      "Cell \u001b[0;32mIn[1], line 7\u001b[0m\n\u001b[1;32m      4\u001b[0m     \u001b[38;5;28;01mreturn\u001b[39;00m n \u001b[38;5;241m+\u001b[39m nsum(n\u001b[38;5;241m-\u001b[39m\u001b[38;5;241m1\u001b[39m)\n\u001b[1;32m      6\u001b[0m n \u001b[38;5;241m=\u001b[39m \u001b[38;5;28mint\u001b[39m(\u001b[38;5;28minput\u001b[39m())\n\u001b[0;32m----> 7\u001b[0m \u001b[38;5;28mprint\u001b[39m(\u001b[43mnsum\u001b[49m\u001b[43m(\u001b[49m\u001b[43mn\u001b[49m\u001b[43m)\u001b[49m)\n",
      "\u001b[0;31mTypeError\u001b[0m: nsum() takes 0 positional arguments but 1 was given"
     ]
    }
   ],
   "source": [
    "def nsum():\n",
    "    if n == 1:\n",
    "        return 1\n",
    "    return n + nsum(n-1)\n",
    "\n",
    "n = int(input())\n",
    "print(nsum(n))"
   ]
  },
  {
   "cell_type": "code",
   "execution_count": 2,
   "id": "0f8a00a0",
   "metadata": {
    "ExecuteTime": {
     "end_time": "2024-06-03T01:59:22.953266Z",
     "start_time": "2024-06-03T01:59:22.950169Z"
    }
   },
   "outputs": [
    {
     "name": "stdout",
     "output_type": "stream",
     "text": [
      "Hello\n"
     ]
    }
   ],
   "source": [
    "class Person:\n",
    "    def greeting(self):\n",
    "        print(\"Hello\")\n",
    "james = Person()\n",
    "james.greeting()"
   ]
  },
  {
   "cell_type": "code",
   "execution_count": 3,
   "id": "d5c33a01c393e2e3",
   "metadata": {
    "ExecuteTime": {
     "end_time": "2024-06-03T02:27:43.897570Z",
     "start_time": "2024-06-03T02:27:43.894594Z"
    }
   },
   "outputs": [
    {
     "name": "stdout",
     "output_type": "stream",
     "text": [
      "18\n",
      "20\n"
     ]
    }
   ],
   "source": [
    "class square:\n",
    "    height = 6\n",
    "    bottom = 3\n",
    "\n",
    "sq1 = square()\n",
    "\n",
    "sq2 = square()\n",
    "sq2.height = 5\n",
    "sq2.bottom = 4\n",
    "print(sq1.height * sq1.bottom)\n",
    "\n",
    "print(sq2.height*sq2.bottom)"
   ]
  },
  {
   "cell_type": "code",
   "execution_count": 3,
   "id": "c22c470f4ef6c3e7",
   "metadata": {
    "ExecuteTime": {
     "end_time": "2024-06-04T02:57:35.631860Z",
     "start_time": "2024-06-04T02:57:35.628650Z"
    }
   },
   "outputs": [
    {
     "name": "stdout",
     "output_type": "stream",
     "text": [
      "'해리 포터' by 조앤k.롤링\n"
     ]
    }
   ],
   "source": [
    "class Book:\n",
    "    def __init__(self, title, author):\n",
    "        self.title = title\n",
    "        self.author = author\n",
    "        \n",
    "    def get_summary(self):\n",
    "        print(f\"'{self.title}' by {self.author}\")\n",
    "        \n",
    "book1 = Book(\"해리 포터\", \"조앤k.롤링\")\n",
    "book1.get_summary()"
   ]
  },
  {
   "cell_type": "code",
   "execution_count": 4,
   "id": "673d0f1c153fe9cc",
   "metadata": {
    "ExecuteTime": {
     "end_time": "2024-06-04T03:03:37.614296Z",
     "start_time": "2024-06-04T03:03:37.611423Z"
    }
   },
   "outputs": [
    {
     "name": "stdout",
     "output_type": "stream",
     "text": [
      "My name is John and I am in grade 9\n"
     ]
    }
   ],
   "source": [
    "class Student:\n",
    "    def __init__(self, name, grade):\n",
    "        self.name = name\n",
    "        self.grade = grade\n",
    "        \n",
    "    def introduce(self):\n",
    "        print(f\"My name is {self.name} and I am in grade {self.grade}\")\n",
    "    \n",
    "student1 = Student(\"John\", 9)\n",
    "student1.introduce()"
   ]
  },
  {
   "cell_type": "code",
   "execution_count": 5,
   "id": "389220f3904ddaf8",
   "metadata": {
    "ExecuteTime": {
     "end_time": "2024-06-04T03:06:35.604508Z",
     "start_time": "2024-06-04T03:06:35.601845Z"
    }
   },
   "outputs": [
    {
     "name": "stdout",
     "output_type": "stream",
     "text": [
      "28.26\n",
      "18.84\n"
     ]
    }
   ],
   "source": [
    "class Circle:\n",
    "    def __init__(self, radius):\n",
    "        self.radius = radius\n",
    "    \n",
    "    def area(self):\n",
    "        return 3.14 * self.radius**2\n",
    "    \n",
    "    def circumference(self):\n",
    "        return 2 * 3.14 * self.radius\n",
    "    \n",
    "circle1 = Circle(3)\n",
    "\n",
    "print(circle1.area())\n",
    "print(circle1.circumference())"
   ]
  },
  {
   "cell_type": "code",
   "execution_count": 6,
   "id": "868920e651e6a8d9",
   "metadata": {
    "ExecuteTime": {
     "end_time": "2024-06-04T03:30:28.984871Z",
     "start_time": "2024-06-04T03:30:23.681441Z"
    }
   },
   "outputs": [
    {
     "name": "stdout",
     "output_type": "stream",
     "text": [
      "1 + 2 = 3\n"
     ]
    }
   ],
   "source": [
    "class Calculator:\n",
    "  def __init__(self):\n",
    "    self.num1 = None\n",
    "    self.num2 = None\n",
    "    self.operator = None\n",
    "\n",
    "  def set_num1(self, num1):\n",
    "    self.num1 = num1\n",
    "\n",
    "  def set_num2(self, num2):\n",
    "    self.num2 = num2\n",
    "\n",
    "  def set_operator(self, operator):\n",
    "    self.operator = operator\n",
    "\n",
    "  def calculate(self):\n",
    "    if self.operator == \"+\":\n",
    "      result = self.num1 + self.num2\n",
    "    elif self.operator == \"-\":\n",
    "      result = self.num1 - self.num2\n",
    "    elif self.operator == \"*\":\n",
    "      result = self.num1 * self.num2\n",
    "    elif self.operator == \"/\":\n",
    "      result = self.num1 / self.num2\n",
    "    else:\n",
    "      print(\"잘못된 연산자\")\n",
    "      return\n",
    "\n",
    "    print(f\"{self.num1} {self.operator} {self.num2} = {result}\")\n",
    "\n",
    "calculator = Calculator()\n",
    "\n",
    "calculator.set_num1(int(input(\"숫자1을 입력해라: \")))\n",
    "calculator.set_num2(int(input(\"숫자2를 입력해라: \")))\n",
    "calculator.set_operator(input(\"어떤 연산을 수행할거냐 (+, -, *, /): \"))\n",
    "\n",
    "calculator.calculate()"
   ]
  },
  {
   "cell_type": "code",
   "execution_count": 1,
   "id": "dcd7e0e9fcaf7bee",
   "metadata": {
    "ExecuteTime": {
     "end_time": "2024-06-13T06:22:32.844957Z",
     "start_time": "2024-06-13T06:22:32.841031Z"
    }
   },
   "outputs": [
    {
     "name": "stdout",
     "output_type": "stream",
     "text": [
      "First class\n",
      "first\n",
      "first2\n",
      "second\n"
     ]
    }
   ],
   "source": [
    "class First :\n",
    "    name = \"first\"\n",
    "    \n",
    "    def __init__(self) :\n",
    "        print(\"First class\")\n",
    "    \n",
    "    def printFirst(self) :\n",
    "        print(\"first1\")\n",
    "        \n",
    "    def printFirst(self) :\n",
    "        print(\"first2\")\n",
    "                \n",
    "class Second :\n",
    "    name = \"second\"\n",
    "    \n",
    "    def __init__(self) :\n",
    "        print(\"First class\")\n",
    "    \n",
    "    @classmethod\n",
    "    def printName(cls) :\n",
    "        print(cls.name)\n",
    "    \n",
    "class Third(First, Second) :\n",
    "    pass\n",
    "\n",
    "third = Third()\n",
    "third.printName()\n",
    "third.printFirst()"
   ]
  },
  {
   "cell_type": "code",
   "execution_count": 1,
   "id": "5b4c5c393d18b6d5",
   "metadata": {},
   "outputs": [
    {
     "name": "stdout",
     "output_type": "stream",
     "text": [
      "https://api.weatherapi.com/v1/current.json?key=dbf786bcf59e435498d90619241306&q=Busan&aqi=yes\n"
     ]
    }
   ],
   "source": [
    "print('https://api.weatherapi.com/v1/current.json?key=dbf786bcf59e435498d90619241306&q=' + 'Busan' + '&aqi=yes')"
   ]
  },
  {
   "cell_type": "code",
   "execution_count": null,
   "id": "7b7f95cf",
   "metadata": {},
   "outputs": [],
   "source": []
  }
 ],
 "metadata": {
  "kernelspec": {
   "display_name": "Python 3",
   "language": "python",
   "name": "python3"
  },
  "language_info": {
   "codemirror_mode": {
    "name": "ipython",
    "version": 3
   },
   "file_extension": ".py",
   "mimetype": "text/x-python",
   "name": "python",
   "nbconvert_exporter": "python",
   "pygments_lexer": "ipython3",
   "version": "3.12.2"
  }
 },
 "nbformat": 4,
 "nbformat_minor": 5
}
